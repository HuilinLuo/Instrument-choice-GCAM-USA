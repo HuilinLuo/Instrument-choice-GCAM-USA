{
 "cells": [
  {
   "cell_type": "code",
   "execution_count": 1,
   "id": "63208fe5",
   "metadata": {},
   "outputs": [],
   "source": [
    "import pandas as pd\n",
    "import numpy as np\n",
    "import matplotlib.pyplot as plt"
   ]
  },
  {
   "cell_type": "code",
   "execution_count": 2,
   "id": "978d1277",
   "metadata": {},
   "outputs": [],
   "source": [
    "from matplotlib.gridspec import GridSpec\n",
    "from matplotlib.ticker import FuncFormatter\n",
    "import matplotlib as mpl\n",
    "\n"
   ]
  },
  {
   "cell_type": "code",
   "execution_count": 3,
   "id": "56807cd7",
   "metadata": {},
   "outputs": [],
   "source": [
    "file = pd.read_excel(\"Carbon Pricing_Paper_0821.xlsx\", sheet_name=\"Sheet1\")"
   ]
  },
  {
   "cell_type": "code",
   "execution_count": 4,
   "id": "e59cbb9c",
   "metadata": {},
   "outputs": [],
   "source": [
    "# getting values\n",
    "price_s100 = file.loc[file['Scenario'] == 'stick-100', 'Price0822'].values[0]\n",
    "price_s80 = file.loc[file['Scenario'] == 'stick-80', 'Price0822'].values[0]\n",
    "price_s60 = file.loc[file['Scenario'] == 'stick-60', 'Price0822'].values[0]\n",
    "\n",
    "price_2030nl100 = file.loc[file['Scenario'] == '2030nl-100', 'Price0822'].values[0]\n",
    "price_2040nl100 = file.loc[file['Scenario'] == '2040nl-100', 'Price0822'].values[0]\n",
    "price_2030l100 = file.loc[file['Scenario'] == '2030l-100', 'Price0822'].values[0]\n",
    "price_2040l100 = file.loc[file['Scenario'] == '2040l-100', 'Price0822'].values[0]\n",
    "\n",
    "price_2030nl80 = file.loc[file['Scenario'] == '2030nl-80', 'Price0822'].values[0]\n",
    "price_2040nl80 = file.loc[file['Scenario'] == '2040nl-80', 'Price0822'].values[0]\n",
    "price_2030l80 = file.loc[file['Scenario'] == '2030l-80', 'Price0822'].values[0]\n",
    "price_2040l80 = file.loc[file['Scenario'] == '2040l-80', 'Price0822'].values[0]\n",
    "\n",
    "price_2030nl60 = file.loc[file['Scenario'] == '2030nl-60', 'Price0822'].values[0]\n",
    "price_2040nl60 = file.loc[file['Scenario'] == '2040nl-60', 'Price0822'].values[0]\n",
    "price_2030l60 = file.loc[file['Scenario'] == '2030l-60', 'Price0822'].values[0]\n",
    "price_2040l60 = file.loc[file['Scenario'] == '2040l-60', 'Price0822'].values[0]\n",
    "\n",
    "price_2030_nt = file.loc[file['Scenario'] == '2030nt-100', 'Price0822'].values[0]\n",
    "price_2040_nt = file.loc[file['Scenario'] == '2040nt-100', 'Price0822'].values[0]\n",
    "price_2030_et = file.loc[file['Scenario'] == '2030et-100', 'Price0822'].values[0]\n",
    "price_2040_et = file.loc[file['Scenario'] == '2040et-100', 'Price0822'].values[0]\n",
    "\n"
   ]
  },
  {
   "cell_type": "code",
   "execution_count": 5,
   "id": "b9b00529",
   "metadata": {},
   "outputs": [],
   "source": [
    "#find relative changes compared with stick-only\n",
    "price_2030nl100 = (price_2030nl100/price_s100)-1\n",
    "price_2040nl100 = (price_2040nl100/price_s100)-1\n",
    "price_2030l100 = (price_2030l100/price_s100)-1\n",
    "price_2040l100 = (price_2040l100/price_s100)-1\n",
    "\n",
    "price_2030nl80 = (price_2030nl80/price_s80)-1\n",
    "price_2040nl80 = (price_2040nl80/price_s80)-1\n",
    "price_2030l80 = (price_2030l80/price_s80)-1\n",
    "price_2040l80 = (price_2040l80/price_s80)-1\n",
    "\n",
    "price_2030nl60 = (price_2030nl60/price_s60)-1\n",
    "price_2040nl60 = (price_2040nl60/price_s60)-1\n",
    "price_2030l60 = (price_2030l60/price_s60)-1\n",
    "price_2040l60 = (price_2040l60/price_s60)-1\n"
   ]
  },
  {
   "cell_type": "code",
   "execution_count": null,
   "id": "7cf2864a",
   "metadata": {},
   "outputs": [],
   "source": [
    "\n",
    "def percent_formatter(x, pos):\n",
    "    return f'{x*100:.0f}%'"
   ]
  },
  {
   "cell_type": "code",
   "execution_count": null,
   "id": "f30bea4e",
   "metadata": {},
   "outputs": [
    {
     "name": "stderr",
     "output_type": "stream",
     "text": [
      "C:\\Users\\Huilin\\AppData\\Local\\Temp\\ipykernel_17200\\1333287107.py:60: MatplotlibDeprecationWarning: Support for passing numbers through unit converters is deprecated since 3.5 and support will be removed two minor releases later; use Axis.convert_units instead.\n",
      "  ax2.set_xticks([])\n",
      "C:\\Users\\Huilin\\AppData\\Local\\Temp\\ipykernel_17200\\1333287107.py:73: MatplotlibDeprecationWarning: Support for passing numbers through unit converters is deprecated since 3.5 and support will be removed two minor releases later; use Axis.convert_units instead.\n",
      "  ax3.set_xticks([])\n",
      "C:\\Users\\Huilin\\AppData\\Local\\Temp\\ipykernel_17200\\1333287107.py:85: MatplotlibDeprecationWarning: Support for passing numbers through unit converters is deprecated since 3.5 and support will be removed two minor releases later; use Axis.convert_units instead.\n",
      "  ax4.set_xticks([])\n"
     ]
    },
    {
     "data": {
      "image/png": "[encoded data removed]",
      "text/plain": [
       "<Figure size 1008x432 with 4 Axes>"
      ]
     },
     "metadata": {
      "needs_background": "light"
     },
     "output_type": "display_data"
    }
   ],
   "source": [
    "# 4-panel carbon price figure, with cumulative emission as x-axis for the 1st panel\n",
    "\n",
    "\n",
    "#setting color map\n",
    "color=[ '#FFB23D', '#FFB23D','#EC6D18','#EC6D18']\n",
    "\n",
    "\n",
    "fig = plt.figure(figsize=(14, 6))\n",
    "\n",
    "\n",
    "gs = GridSpec(1, 4, width_ratios=[2, 1, 1, 1])\n",
    "\n",
    "\n",
    "x1=[89.22, 104.79, 120.35]\n",
    "\n",
    "\n",
    "\n",
    "x2=['Carrot_QuickStick','Carrot_QuickStick (Rapid Innovation)','Carrot_DelayedStick','Carrot_DelayedStick (Rapid Innovation)']\n",
    "x3=['Carrot_QuickStick','Carrot_QuickStick','Carrot_DelayedStick','Carrot_DelayedStick']\n",
    "\n",
    "y1=[price_s100,price_s80,price_s60]\n",
    "y1_unit_changed = [value * (12/44 * 1.98) for value in y1]\n",
    "y2=[price_2030nl100,price_2030l100, price_2040nl100,price_2040l100]\n",
    "y3=[price_2030nl80,price_2030l80,price_2040nl80, price_2040l80]\n",
    "y4=[price_2030nl60,price_2030l60,price_2040nl60, price_2040l60]\n",
    "\n",
    "\n",
    "ax1 = plt.subplot(gs[0])\n",
    "ax1.scatter(x1, y1_unit_changed, color='black',s=100)\n",
    "# ax1.set_title('    Carbon prices, stick-only cases \\n in 2050',wrap=True, size=14)\n",
    "ax1.set_ylim(0, 220)  \n",
    "ax1.set_xlim(80, 130)\n",
    "ax1.tick_params(axis='x', labelsize=14) \n",
    "ax1.tick_params(axis='y', labelsize=14)\n",
    "plt.xticks(rotation=90) \n",
    "plt.xlabel(\"Cumulative emissions 2015-2050, Gt CO2\", wrap=True, size=16)\n",
    "plt.ylabel(\"2020$/tCO2\", wrap=True, size=14)\n",
    "\n",
    "\n",
    "ax2 = plt.subplot(gs[1])\n",
    "bars = ax2.bar(x2, y2, color=color)\n",
    "for j in [-3, -1]:\n",
    "    bars[j].set_hatch('//')\n",
    "ax2.axhline(y=0, color='black', linestyle='-', linewidth=1)\n",
    "ax2.set_title('More ambitious \\n target', wrap=True, size=18)\n",
    "ax2.tick_params(axis='x', labelsize=14) \n",
    "ax2.tick_params(axis='y', labelsize=12)\n",
    "ax2.yaxis.set_major_formatter(FuncFormatter(percent_formatter))\n",
    "ax2.set_ylim(-0.7, 0.7)\n",
    "plt.xticks(rotation=90)\n",
    "ax2.set_xticks([])\n",
    "\n",
    "plt.subplots_adjust(wspace=0, hspace=0)\n",
    "\n",
    "ax3 = plt.subplot(gs[2])#, sharey=ax2)\n",
    "bars3 = ax3.bar(x2, y3, color=color)\n",
    "for j in [-3, -1]:\n",
    "    bars3[j].set_hatch('//')\n",
    "ax3.set_yticklabels([])\n",
    "ax3.axhline(y=0, color='black', linestyle='-', linewidth=1)\n",
    "ax3.set_title('Main results', wrap=True, size=18)\n",
    "ax3.set_xticks([])\n",
    "ax3.set_ylim(-0.7, 0.7)\n",
    "plt.xticks(rotation=90)\n",
    "\n",
    "ax4 = plt.subplot(gs[3] , sharey=ax3)\n",
    "bars4 = ax4.bar(x2, y4, color=color)\n",
    "for j in [-3, -1]:\n",
    "    bars4[j].set_hatch('//')\n",
    "ax4.set_yticklabels([])\n",
    "# ax4.yaxis.tick_right()\n",
    "ax4.axhline(y=0, color='black', linestyle='-', linewidth=1)\n",
    "ax4.set_title('Less ambitious \\n target', wrap=True, size=18)\n",
    "ax4.set_xticks([])\n",
    "ax4.set_ylim(-0.7, 0.7)\n",
    "plt.xticks(rotation=90)\n",
    "# ax4.yaxis.set_major_formatter(FuncFormatter(percent_formatter))\n",
    "\n",
    "fig.tight_layout()\n",
    "\n",
    "plt.savefig(\"fig 3_carbon prices_v3_20241003.svg\", transparent = True)\n",
    "\n",
    "plt.show()\n"
   ]
  },
  {
   "cell_type": "code",
   "execution_count": null,
   "id": "90150031",
   "metadata": {},
   "outputs": [],
   "source": []
  }
 ],
 "metadata": {
  "kernelspec": {
   "display_name": "Python 3 (ipykernel)",
   "language": "python",
   "name": "python3"
  },
  "language_info": {
   "codemirror_mode": {
    "name": "ipython",
    "version": 3
   },
   "file_extension": ".py",
   "mimetype": "text/x-python",
   "name": "python",
   "nbconvert_exporter": "python",
   "pygments_lexer": "ipython3",
   "version": "3.9.12"
  }
 },
 "nbformat": 4,
 "nbformat_minor": 5
}
